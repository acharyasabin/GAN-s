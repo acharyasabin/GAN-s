{
 "cells": [
  {
   "cell_type": "code",
   "execution_count": 1,
   "metadata": {},
   "outputs": [],
   "source": [
    "import numpy as np\n",
    "\n",
    "%matplotlib inline\n",
    "import matplotlib.pyplot as plt\n",
    "\n",
    "from keras.datasets import mnist\n",
    "from keras.models import Sequential, Model\n",
    "from keras.layers import Input, Dense, LeakyReLU, BatchNormalization, ReLU\n",
    "from keras.layers import Conv2D, Conv2DTranspose, Reshape, Flatten,Dropout\n",
    "from keras.optimizers import Adam\n",
    "from keras import initializers\n",
    "from keras.utils import plot_model\n",
    "from keras import backend as K"
   ]
  },
  {
   "cell_type": "code",
   "execution_count": 2,
   "metadata": {},
   "outputs": [],
   "source": [
    "# load dataset\n",
    "(X_train, y_train), (X_test, y_test) = mnist.load_data()"
   ]
  },
  {
   "cell_type": "code",
   "execution_count": 3,
   "metadata": {},
   "outputs": [
    {
     "data": {
      "text/plain": [
       "((60000, 28, 28), (10000, 28, 28))"
      ]
     },
     "execution_count": 3,
     "metadata": {},
     "output_type": "execute_result"
    }
   ],
   "source": [
    "X_train.shape,X_test.shape"
   ]
  },
  {
   "cell_type": "code",
   "execution_count": 4,
   "metadata": {},
   "outputs": [
    {
     "data": {
      "image/png": "[encoded data removed]",
      "text/plain": [
       "<Figure size 432x288 with 10 Axes>"
      ]
     },
     "metadata": {
      "needs_background": "light"
     },
     "output_type": "display_data"
    }
   ],
   "source": [
    "fig = plt.figure()\n",
    "for i in range(10):\n",
    "    plt.subplot(2,5,i+1)\n",
    "    examp = X_train[y_train == i][0]\n",
    "    plt.imshow(examp)\n",
    "    plt.title(str(i))"
   ]
  },
  {
   "cell_type": "code",
   "execution_count": 5,
   "metadata": {},
   "outputs": [
    {
     "data": {
      "text/plain": [
       "(60000, 28, 28, 1)"
      ]
     },
     "execution_count": 5,
     "metadata": {},
     "output_type": "execute_result"
    }
   ],
   "source": [
    "X_train = X_train.reshape(X_train.shape[0],28,28,1)\n",
    "X_test = X_test.reshape(X_test.shape[0],28,28,1)\n",
    "\n",
    "input_dim = (28,28,1)\n",
    "\n",
    "X_train = (np.float32(X_train)/255 - 0.5)*2\n",
    "X_train = np.clip(X_train,-1,1)\n",
    "\n",
    "X_train.shape\n"
   ]
  },
  {
   "cell_type": "code",
   "execution_count": 6,
   "metadata": {},
   "outputs": [
    {
     "name": "stdout",
     "output_type": "stream",
     "text": [
      "Model: \"sequential_1\"\n",
      "_________________________________________________________________\n",
      "Layer (type)                 Output Shape              Param #   \n",
      "=================================================================\n",
      "conv2d_1 (Conv2D)            (None, 14, 14, 32)        320       \n",
      "_________________________________________________________________\n",
      "leaky_re_lu_1 (LeakyReLU)    (None, 14, 14, 32)        0         \n",
      "_________________________________________________________________\n",
      "conv2d_2 (Conv2D)            (None, 7, 7, 64)          18496     \n",
      "_________________________________________________________________\n",
      "batch_normalization_1 (Batch (None, 7, 7, 64)          256       \n",
      "_________________________________________________________________\n",
      "leaky_re_lu_2 (LeakyReLU)    (None, 7, 7, 64)          0         \n",
      "_________________________________________________________________\n",
      "conv2d_3 (Conv2D)            (None, 4, 4, 128)         73856     \n",
      "_________________________________________________________________\n",
      "batch_normalization_2 (Batch (None, 4, 4, 128)         512       \n",
      "_________________________________________________________________\n",
      "leaky_re_lu_3 (LeakyReLU)    (None, 4, 4, 128)         0         \n",
      "_________________________________________________________________\n",
      "flatten_1 (Flatten)          (None, 2048)              0         \n",
      "_________________________________________________________________\n",
      "dropout_1 (Dropout)          (None, 2048)              0         \n",
      "_________________________________________________________________\n",
      "dense_1 (Dense)              (None, 1)                 2049      \n",
      "=================================================================\n",
      "Total params: 95,489\n",
      "Trainable params: 95,105\n",
      "Non-trainable params: 384\n",
      "_________________________________________________________________\n"
     ]
    }
   ],
   "source": [
    "init = initializers.RandomNormal(stddev=0.02)\n",
    "latent_space_dim = 100\n",
    "\n",
    "img_dim = 784\n",
    "\n",
    "\n",
    "#Discriminator\n",
    "d = Sequential()\n",
    "d.add(Conv2D(32, kernel_size=3, strides=2, padding='same',\n",
    "                         input_shape=(28, 28, 1), kernel_initializer=init))\n",
    "d.add(LeakyReLU(0.2))\n",
    "\n",
    "d.add(Conv2D(64, kernel_size=3, strides=2, padding='same'))\n",
    "d.add(BatchNormalization(momentum=0.8))\n",
    "d.add(LeakyReLU(0.2))\n",
    "\n",
    "d.add(Conv2D(128, kernel_size=3, strides=2, padding='same'))\n",
    "d.add(BatchNormalization(momentum=0.8))\n",
    "d.add(LeakyReLU(0.2))\n",
    "\n",
    "d.add(Flatten())\n",
    "\n",
    "d.add(Dropout(0.5))\n",
    "\n",
    "d.add(Dense(1,activation = 'sigmoid'))\n",
    "\n",
    "\n",
    "d.summary()\n"
   ]
  },
  {
   "cell_type": "code",
   "execution_count": 7,
   "metadata": {},
   "outputs": [],
   "source": [
    "optimizer = Adam(lr=0.0002, beta_1=0.5)\n",
    "\n",
    "d.compile(optimizer=optimizer, loss='binary_crossentropy', metrics=['binary_accuracy'])"
   ]
  },
  {
   "cell_type": "code",
   "execution_count": 8,
   "metadata": {},
   "outputs": [
    {
     "name": "stdout",
     "output_type": "stream",
     "text": [
      "Model: \"sequential_2\"\n",
      "_________________________________________________________________\n",
      "Layer (type)                 Output Shape              Param #   \n",
      "=================================================================\n",
      "dense_2 (Dense)              (None, 6272)              633472    \n",
      "_________________________________________________________________\n",
      "reshape_1 (Reshape)          (None, 7, 7, 128)         0         \n",
      "_________________________________________________________________\n",
      "conv2d_transpose_1 (Conv2DTr (None, 14, 14, 64)        73792     \n",
      "_________________________________________________________________\n",
      "batch_normalization_3 (Batch (None, 14, 14, 64)        256       \n",
      "_________________________________________________________________\n",
      "re_lu_1 (ReLU)               (None, 14, 14, 64)        0         \n",
      "_________________________________________________________________\n",
      "conv2d_transpose_2 (Conv2DTr (None, 14, 14, 32)        18464     \n",
      "_________________________________________________________________\n",
      "batch_normalization_4 (Batch (None, 14, 14, 32)        128       \n",
      "_________________________________________________________________\n",
      "re_lu_2 (ReLU)               (None, 14, 14, 32)        0         \n",
      "_________________________________________________________________\n",
      "conv2d_transpose_3 (Conv2DTr (None, 28, 28, 1)         289       \n",
      "=================================================================\n",
      "Total params: 726,401\n",
      "Trainable params: 726,209\n",
      "Non-trainable params: 192\n",
      "_________________________________________________________________\n"
     ]
    }
   ],
   "source": [
    "#Generator Network\n",
    "\n",
    "g = Sequential()\n",
    "\n",
    "g.add(Dense(7*7*128, input_shape = (latent_space_dim,), kernel_initializer = init))\n",
    "g.add(Reshape((7,7,128)))\n",
    "\n",
    "\n",
    "g.add(Conv2DTranspose(64, kernel_size=3, strides=2, padding='same'))\n",
    "g.add(BatchNormalization(momentum=0.8))\n",
    "g.add(ReLU(0.2))\n",
    "\n",
    "g.add(Conv2DTranspose(32, kernel_size=3, strides=1, padding='same'))\n",
    "g.add(BatchNormalization(momentum=0.8))\n",
    "g.add(ReLU(0.2))\n",
    "\n",
    "g.add(Conv2DTranspose(1, kernel_size=3, strides=2, padding='same', activation='tanh'))\n",
    "\n",
    "g.summary()"
   ]
  },
  {
   "cell_type": "code",
   "execution_count": 9,
   "metadata": {},
   "outputs": [
    {
     "name": "stdout",
     "output_type": "stream",
     "text": [
      "Model: \"model_1\"\n",
      "_________________________________________________________________\n",
      "Layer (type)                 Output Shape              Param #   \n",
      "=================================================================\n",
      "input_1 (InputLayer)         (None, 100)               0         \n",
      "_________________________________________________________________\n",
      "sequential_2 (Sequential)    (None, 28, 28, 1)         726401    \n",
      "_________________________________________________________________\n",
      "sequential_1 (Sequential)    (None, 1)                 95489     \n",
      "=================================================================\n",
      "Total params: 821,890\n",
      "Trainable params: 726,209\n",
      "Non-trainable params: 95,681\n",
      "_________________________________________________________________\n"
     ]
    }
   ],
   "source": [
    "d.trainable = False\n",
    "\n",
    "z = Input(shape=(latent_space_dim,))\n",
    "img = g(z)\n",
    "decision = d(img)\n",
    "d_g = Model(inputs=z, outputs=decision)\n",
    "\n",
    "d_g.compile(optimizer=optimizer, loss='binary_crossentropy', metrics=['binary_accuracy'])\n",
    "d_g.summary()\n"
   ]
  },
  {
   "cell_type": "code",
   "execution_count": 12,
   "metadata": {},
   "outputs": [
    {
     "name": "stdout",
     "output_type": "stream",
     "text": [
      "epoch = 1/20, d_loss=0.184, g_loss=5.590                                                                                                                       \n"
     ]
    },
    {
     "data": {
      "image/png": "[encoded data removed]",
      "text/plain": [
       "<Figure size 432x288 with 10 Axes>"
      ]
     },
     "metadata": {},
     "output_type": "display_data"
    },
    {
     "name": "stdout",
     "output_type": "stream",
     "text": [
      "epoch = 2/20, d_loss=0.187, g_loss=4.360                                                                                                                       \n",
      "epoch = 3/20, d_loss=0.242, g_loss=4.314                                                                                                                       \n",
      "epoch = 4/20, d_loss=0.306, g_loss=3.608                                                                                                                      \n",
      "epoch = 5/20, d_loss=1.097, g_loss=1.245                                                                                                                      \n",
      "epoch = 6/20, d_loss=0.541, g_loss=2.452                                                                                                                      \n",
      "epoch = 7/20, d_loss=0.218, g_loss=5.052                                                                                                                      \n",
      "epoch = 8/20, d_loss=0.231, g_loss=4.497                                                                                                                      \n",
      "epoch = 9/20, d_loss=0.243, g_loss=4.158                                                                                                                      \n",
      "epoch = 10/20, d_loss=0.278, g_loss=3.911                                                                                                                      \n",
      "epoch = 11/20, d_loss=0.290, g_loss=3.302                                                                                                                      \n"
     ]
    },
    {
     "data": {
      "image/png": "[encoded data removed]",
      "text/plain": [
       "<Figure size 432x288 with 10 Axes>"
      ]
     },
     "metadata": {},
     "output_type": "display_data"
    },
    {
     "name": "stdout",
     "output_type": "stream",
     "text": [
      "epoch = 12/20, d_loss=0.289, g_loss=3.527                                                                                                                      \n",
      "epoch = 13/20, d_loss=0.348, g_loss=2.859                                                                                                                      \n",
      "epoch = 14/20, d_loss=0.270, g_loss=3.484                                                                                                                      \n",
      "epoch = 15/20, d_loss=0.270, g_loss=3.385                                                                                                                      \n",
      "epoch = 16/20, d_loss=0.263, g_loss=3.721                                                                                                                      \n",
      "epoch = 17/20, d_loss=0.249, g_loss=3.157                                                                                                                      \n",
      "epoch = 18/20, d_loss=0.273, g_loss=3.563                                                                                                                                                                                                                          \n",
      "epoch = 19/20, d_loss=0.241, g_loss=3.615                                                                                                                      \n",
      "epoch = 20/20, d_loss=0.259, g_loss=3.955                                                                                                                      \n",
      "epoch = 21/20, d_loss=0.260, g_loss=3.458                                                                                                                      \n"
     ]
    },
    {
     "data": {
      "image/png": "[encoded data removed]",
      "text/plain": [
       "<Figure size 432x288 with 10 Axes>"
      ]
     },
     "metadata": {},
     "output_type": "display_data"
    }
   ],
   "source": [
    "epochs = 20\n",
    "batch_size = 64\n",
    "smooth = 0.1\n",
    "\n",
    "real = np.ones(shape=(batch_size, 1))\n",
    "fake = np.zeros(shape=(batch_size, 1))\n",
    "\n",
    "d_loss = []\n",
    "d_g_loss = []\n",
    "\n",
    "for e in range(epochs + 1):\n",
    "    for i in range(len(X_train) // batch_size):\n",
    "\n",
    "        # Train Discriminator weights\n",
    "        d.trainable = True\n",
    "\n",
    "        # Real samples\n",
    "        X_batch = X_train[i*batch_size:(i+1)*batch_size]\n",
    "        d_loss_real = d.train_on_batch(x=X_batch, y=real * (1 - smooth))\n",
    "\n",
    "        # Fake Samples\n",
    "        z = np.random.normal(loc=0, scale=1, size=(batch_size, latent_space_dim))\n",
    "        X_fake = g.predict_on_batch(z)\n",
    "        d_loss_fake = d.train_on_batch(x=X_fake, y=fake)\n",
    "\n",
    "        # Discriminator loss\n",
    "        d_loss_batch = 0.5 * (d_loss_real[0] + d_loss_fake[0])\n",
    "\n",
    "        # Train Generator weights\n",
    "        d.trainable = False\n",
    "        d_g_loss_batch = d_g.train_on_batch(x=z, y=real)\n",
    "\n",
    "        print(\n",
    "            'epoch = %d/%d, batch = %d/%d, d_loss=%.3f, g_loss=%.3f' % (e + 1, epochs, i, len(X_train) // batch_size, d_loss_batch, d_g_loss_batch[0]),\n",
    "            100*' ',\n",
    "            end='\\r'\n",
    "        )\n",
    "\n",
    "    d_loss.append(d_loss_batch)\n",
    "    d_g_loss.append(d_g_loss_batch[0])\n",
    "    print('epoch = %d/%d, d_loss=%.3f, g_loss=%.3f' % (e + 1, epochs, d_loss[-1], d_g_loss[-1]), 100*' ')\n",
    "\n",
    "    if e % 10 == 0:\n",
    "        samples = 10\n",
    "        x_fake = g.predict(np.random.normal(loc=0, scale=1, size=(samples, latent_space_dim)))\n",
    "\n",
    "        for k in range(samples):\n",
    "            plt.subplot(2, 5, k+1)\n",
    "            plt.imshow(x_fake[k].reshape(28, 28), cmap='gray')\n",
    "            plt.xticks([])\n",
    "            plt.yticks([])\n",
    "\n",
    "        plt.tight_layout()\n",
    "        plt.show()"
   ]
  },
  {
   "cell_type": "code",
   "execution_count": null,
   "metadata": {},
   "outputs": [],
   "source": []
  }
 ],
 "metadata": {
  "kernelspec": {
   "display_name": "Python 3",
   "language": "python",
   "name": "python3"
  },
  "language_info": {
   "codemirror_mode": {
    "name": "ipython",
    "version": 3
   },
   "file_extension": ".py",
   "mimetype": "text/x-python",
   "name": "python",
   "nbconvert_exporter": "python",
   "pygments_lexer": "ipython3",
   "version": "3.6.8"
  }
 },
 "nbformat": 4,
 "nbformat_minor": 2
}
